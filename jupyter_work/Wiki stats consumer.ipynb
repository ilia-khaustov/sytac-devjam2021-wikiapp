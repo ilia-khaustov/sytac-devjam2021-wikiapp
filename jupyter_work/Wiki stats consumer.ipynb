{
 "cells": [
  {
   "cell_type": "code",
   "execution_count": null,
   "id": "f696a2cd",
   "metadata": {},
   "outputs": [],
   "source": [
    "from kafka import KafkaConsumer"
   ]
  },
  {
   "cell_type": "code",
   "execution_count": null,
   "id": "908add70",
   "metadata": {},
   "outputs": [],
   "source": [
    "def stream_stats():\n",
    "    consumer = KafkaConsumer('wiki_event_stats', bootstrap_servers='kafka:9092')\n",
    "    for message in consumer:\n",
    "        # fetch namespace and count of events in that namespace\n",
    "        wiki_ns = message.key.decode()\n",
    "        events_cnt = int.from_bytes(message.value, 'big')\n",
    "        yield wiki_ns, events_cnt"
   ]
  },
  {
   "cell_type": "code",
   "execution_count": null,
   "id": "7f9de052",
   "metadata": {},
   "outputs": [],
   "source": [
    "%matplotlib notebook\n",
    "\n",
    "import time\n",
    "\n",
    "import numpy as np\n",
    "import matplotlib.pyplot as plt\n",
    "\n",
    "data = []\n",
    "names = []\n",
    "width=0.3\n",
    "plt.rcParams[\"figure.figsize\"]=9,6\n",
    "\n",
    "fig = plt.figure()\n",
    "ax = fig.add_subplot(111)\n",
    "plt.ion()\n",
    "fig.tight_layout()\n",
    "fig.show()\n",
    "fig.canvas.draw()\n",
    "\n",
    "last_updated = time.time()\n",
    "for wiki_ns, events_cnt in stream_stats():\n",
    "    # update in-memory caches for rendering plot\n",
    "    if wiki_ns not in names:\n",
    "        names.append(wiki_ns)\n",
    "        data.append(events_cnt)\n",
    "    else:\n",
    "        ns_idx = names.index(wiki_ns)\n",
    "        data[ns_idx] = events_cnt\n",
    "    \n",
    "    # decide to render or not\n",
    "    if time.time() - last_updated < 1:\n",
    "        continue\n",
    "    else:\n",
    "        last_updated = time.time()\n",
    "    \n",
    "    # do the render magic\n",
    "    ax = plt.subplot(111)\n",
    "    ax.clear()\n",
    "    bins = map(lambda x: x-width/2, range(1, len(data)+1))\n",
    "    ax.bar(list(bins), data, width=width)\n",
    "    ax.set_xticks(list(map(lambda x: x, range(1, len(data)+1))))\n",
    "    ax.set_xticklabels(names, rotation=45, rotation_mode=\"anchor\", ha=\"right\")\n",
    "    fig.tight_layout()\n",
    "    fig.canvas.draw()"
   ]
  },
  {
   "cell_type": "code",
   "execution_count": null,
   "id": "22d5d139",
   "metadata": {},
   "outputs": [],
   "source": []
  }
 ],
 "metadata": {
  "kernelspec": {
   "display_name": "Python 3",
   "language": "python",
   "name": "python3"
  },
  "language_info": {
   "codemirror_mode": {
    "name": "ipython",
    "version": 3
   },
   "file_extension": ".py",
   "mimetype": "text/x-python",
   "name": "python",
   "nbconvert_exporter": "python",
   "pygments_lexer": "ipython3",
   "version": "3.8.8"
  }
 },
 "nbformat": 4,
 "nbformat_minor": 5
}
